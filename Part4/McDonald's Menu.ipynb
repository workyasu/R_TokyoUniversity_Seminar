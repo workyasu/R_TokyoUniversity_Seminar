{
 "cells": [
  {
   "cell_type": "code",
   "execution_count": 1,
   "metadata": {
    "collapsed": true
   },
   "outputs": [],
   "source": [
    "d=read.csv(\"menu.csv\",header=T)"
   ]
  },
  {
   "cell_type": "code",
   "execution_count": 2,
   "metadata": {
    "collapsed": true
   },
   "outputs": [
    {
     "name": "stdout",
     "output_type": "stream",
     "text": [
      "'data.frame':\t260 obs. of  24 variables:\n",
      " $ Category                     : Factor w/ 9 levels \"Beef & Pork\",..: 3 3 3 3 3 3 3 3 3 3 ...\n",
      " $ Item                         : Factor w/ 260 levels \"1% Low Fat Milk Jug\",..: 76 77 228 229 230 245 12 11 14 13 ...\n",
      " $ Serving.Size                 : Factor w/ 107 levels \"1 carton (236 ml)\",..: 55 54 42 69 69 83 63 72 65 73 ...\n",
      " $ Calories                     : int  300 250 370 450 400 430 460 520 410 470 ...\n",
      " $ Calories.from.Fat            : int  120 70 200 250 210 210 230 270 180 220 ...\n",
      " $ Total.Fat                    : num  13 8 23 28 23 23 26 30 20 25 ...\n",
      " $ Total.Fat....Daily.Value.    : int  20 12 35 43 35 36 40 47 32 38 ...\n",
      " $ Saturated.Fat                : num  5 3 8 10 8 9 13 14 11 12 ...\n",
      " $ Saturated.Fat....Daily.Value.: int  25 15 42 52 42 46 65 68 56 59 ...\n",
      " $ Trans.Fat                    : num  0 0 0 0 0 1 0 0 0 0 ...\n",
      " $ Cholesterol                  : int  260 25 45 285 50 300 250 250 35 35 ...\n",
      " $ Cholesterol....Daily.Value.  : int  87 8 15 95 16 100 83 83 11 11 ...\n",
      " $ Sodium                       : int  750 770 780 860 880 960 1300 1410 1300 1420 ...\n",
      " $ Sodium....Daily.Value.       : int  31 32 33 36 37 40 54 59 54 59 ...\n",
      " $ Carbohydrates                : int  31 30 29 30 30 31 38 43 36 42 ...\n",
      " $ Carbohydrates....Daily.Value.: int  10 10 10 10 10 10 13 14 12 14 ...\n",
      " $ Dietary.Fiber                : int  4 4 4 4 4 4 2 3 2 3 ...\n",
      " $ Dietary.Fiber....Daily.Value.: int  17 17 17 17 17 18 7 12 7 12 ...\n",
      " $ Sugars                       : int  3 3 2 2 2 3 3 4 3 4 ...\n",
      " $ Protein                      : int  17 18 14 21 21 26 19 19 20 20 ...\n",
      " $ Vitamin.A....Daily.Value.    : int  10 6 8 15 6 15 10 15 2 6 ...\n",
      " $ Vitamin.C....Daily.Value.    : int  0 0 0 0 0 2 8 8 8 8 ...\n",
      " $ Calcium....Daily.Value.      : int  25 25 25 30 25 30 15 20 15 15 ...\n",
      " $ Iron....Daily.Value.         : int  15 8 10 15 10 20 15 20 10 15 ...\n"
     ]
    }
   ],
   "source": [
    "str(d)"
   ]
  },
  {
   "cell_type": "code",
   "execution_count": 3,
   "metadata": {
    "collapsed": false,
    "scrolled": true
   },
   "outputs": [
    {
     "data": {
      "text/plain": [
       "               Category                                       Item    \n",
       " Coffee & Tea      :95   1% Low Fat Milk Jug                    :  1  \n",
       " Breakfast         :42   Apple Slices                           :  1  \n",
       " Smoothies & Shakes:28   Bacon Buffalo Ranch McChicken          :  1  \n",
       " Beverages         :27   Bacon Cheddar McChicken                :  1  \n",
       " Chicken & Fish    :27   Bacon Clubhouse Burger                 :  1  \n",
       " Beef & Pork       :15   Bacon Clubhouse Crispy Chicken Sandwich:  1  \n",
       " (Other)           :26   (Other)                                :254  \n",
       "       Serving.Size    Calories      Calories.from.Fat   Total.Fat      \n",
       " 16 fl oz cup: 45   Min.   :   0.0   Min.   :   0.0    Min.   :  0.000  \n",
       " 12 fl oz cup: 38   1st Qu.: 210.0   1st Qu.:  20.0    1st Qu.:  2.375  \n",
       " 22 fl oz cup: 20   Median : 340.0   Median : 100.0    Median : 11.000  \n",
       " 20 fl oz cup: 16   Mean   : 368.3   Mean   : 127.1    Mean   : 14.165  \n",
       " 21 fl oz cup:  7   3rd Qu.: 500.0   3rd Qu.: 200.0    3rd Qu.: 22.250  \n",
       " 30 fl oz cup:  7   Max.   :1880.0   Max.   :1060.0    Max.   :118.000  \n",
       " (Other)     :127                                                       \n",
       " Total.Fat....Daily.Value. Saturated.Fat    Saturated.Fat....Daily.Value.\n",
       " Min.   :  0.00            Min.   : 0.000   Min.   :  0.00               \n",
       " 1st Qu.:  3.75            1st Qu.: 1.000   1st Qu.:  4.75               \n",
       " Median : 17.00            Median : 5.000   Median : 24.00               \n",
       " Mean   : 21.82            Mean   : 6.008   Mean   : 29.97               \n",
       " 3rd Qu.: 35.00            3rd Qu.:10.000   3rd Qu.: 48.00               \n",
       " Max.   :182.00            Max.   :20.000   Max.   :102.00               \n",
       "                                                                         \n",
       "   Trans.Fat       Cholesterol     Cholesterol....Daily.Value.     Sodium      \n",
       " Min.   :0.0000   Min.   :  0.00   Min.   :  0.00              Min.   :   0.0  \n",
       " 1st Qu.:0.0000   1st Qu.:  5.00   1st Qu.:  2.00              1st Qu.: 107.5  \n",
       " Median :0.0000   Median : 35.00   Median : 11.00              Median : 190.0  \n",
       " Mean   :0.2038   Mean   : 54.94   Mean   : 18.39              Mean   : 495.8  \n",
       " 3rd Qu.:0.0000   3rd Qu.: 65.00   3rd Qu.: 21.25              3rd Qu.: 865.0  \n",
       " Max.   :2.5000   Max.   :575.00   Max.   :192.00              Max.   :3600.0  \n",
       "                                                                               \n",
       " Sodium....Daily.Value. Carbohydrates    Carbohydrates....Daily.Value.\n",
       " Min.   :  0.00         Min.   :  0.00   Min.   : 0.00                \n",
       " 1st Qu.:  4.75         1st Qu.: 30.00   1st Qu.:10.00                \n",
       " Median :  8.00         Median : 44.00   Median :15.00                \n",
       " Mean   : 20.68         Mean   : 47.35   Mean   :15.78                \n",
       " 3rd Qu.: 36.25         3rd Qu.: 60.00   3rd Qu.:20.00                \n",
       " Max.   :150.00         Max.   :141.00   Max.   :47.00                \n",
       "                                                                      \n",
       " Dietary.Fiber   Dietary.Fiber....Daily.Value.     Sugars          Protein     \n",
       " Min.   :0.000   Min.   : 0.000                Min.   :  0.00   Min.   : 0.00  \n",
       " 1st Qu.:0.000   1st Qu.: 0.000                1st Qu.:  5.75   1st Qu.: 4.00  \n",
       " Median :1.000   Median : 5.000                Median : 17.50   Median :12.00  \n",
       " Mean   :1.631   Mean   : 6.531                Mean   : 29.42   Mean   :13.34  \n",
       " 3rd Qu.:3.000   3rd Qu.:10.000                3rd Qu.: 48.00   3rd Qu.:19.00  \n",
       " Max.   :7.000   Max.   :28.000                Max.   :128.00   Max.   :87.00  \n",
       "                                                                               \n",
       " Vitamin.A....Daily.Value. Vitamin.C....Daily.Value. Calcium....Daily.Value.\n",
       " Min.   :  0.00            Min.   :  0.000           Min.   : 0.00          \n",
       " 1st Qu.:  2.00            1st Qu.:  0.000           1st Qu.: 6.00          \n",
       " Median :  8.00            Median :  0.000           Median :20.00          \n",
       " Mean   : 13.43            Mean   :  8.535           Mean   :20.97          \n",
       " 3rd Qu.: 15.00            3rd Qu.:  4.000           3rd Qu.:30.00          \n",
       " Max.   :170.00            Max.   :240.000           Max.   :70.00          \n",
       "                                                                            \n",
       " Iron....Daily.Value.\n",
       " Min.   : 0.000      \n",
       " 1st Qu.: 0.000      \n",
       " Median : 4.000      \n",
       " Mean   : 7.735      \n",
       " 3rd Qu.:15.000      \n",
       " Max.   :40.000      \n",
       "                     "
      ]
     },
     "metadata": {},
     "output_type": "display_data"
    }
   ],
   "source": [
    "summary(d)"
   ]
  },
  {
   "cell_type": "code",
   "execution_count": 6,
   "metadata": {
    "collapsed": true
   },
   "outputs": [
    {
     "name": "stdout",
     "output_type": "stream",
     "text": [
      "'data.frame':\t260 obs. of  22 variables:\n",
      " $ Category                     : Factor w/ 9 levels \"Beef & Pork\",..: 3 3 3 3 3 3 3 3 3 3 ...\n",
      " $ Calories                     : int  300 250 370 450 400 430 460 520 410 470 ...\n",
      " $ Calories.from.Fat            : int  120 70 200 250 210 210 230 270 180 220 ...\n",
      " $ Total.Fat                    : num  13 8 23 28 23 23 26 30 20 25 ...\n",
      " $ Total.Fat....Daily.Value.    : int  20 12 35 43 35 36 40 47 32 38 ...\n",
      " $ Saturated.Fat                : num  5 3 8 10 8 9 13 14 11 12 ...\n",
      " $ Saturated.Fat....Daily.Value.: int  25 15 42 52 42 46 65 68 56 59 ...\n",
      " $ Trans.Fat                    : num  0 0 0 0 0 1 0 0 0 0 ...\n",
      " $ Cholesterol                  : int  260 25 45 285 50 300 250 250 35 35 ...\n",
      " $ Cholesterol....Daily.Value.  : int  87 8 15 95 16 100 83 83 11 11 ...\n",
      " $ Sodium                       : int  750 770 780 860 880 960 1300 1410 1300 1420 ...\n",
      " $ Sodium....Daily.Value.       : int  31 32 33 36 37 40 54 59 54 59 ...\n",
      " $ Carbohydrates                : int  31 30 29 30 30 31 38 43 36 42 ...\n",
      " $ Carbohydrates....Daily.Value.: int  10 10 10 10 10 10 13 14 12 14 ...\n",
      " $ Dietary.Fiber                : int  4 4 4 4 4 4 2 3 2 3 ...\n",
      " $ Dietary.Fiber....Daily.Value.: int  17 17 17 17 17 18 7 12 7 12 ...\n",
      " $ Sugars                       : int  3 3 2 2 2 3 3 4 3 4 ...\n",
      " $ Protein                      : int  17 18 14 21 21 26 19 19 20 20 ...\n",
      " $ Vitamin.A....Daily.Value.    : int  10 6 8 15 6 15 10 15 2 6 ...\n",
      " $ Vitamin.C....Daily.Value.    : int  0 0 0 0 0 2 8 8 8 8 ...\n",
      " $ Calcium....Daily.Value.      : int  25 25 25 30 25 30 15 20 15 15 ...\n",
      " $ Iron....Daily.Value.         : int  15 8 10 15 10 20 15 20 10 15 ...\n"
     ]
    }
   ],
   "source": [
    "library(dplyr)\n",
    "t=select(d,-Item,-Serving.Size)\n",
    "str(t)"
   ]
  },
  {
   "cell_type": "code",
   "execution_count": 15,
   "metadata": {
    "collapsed": false
   },
   "outputs": [
    {
     "data": {
      "text/plain": [
       "\n",
       "       Beef & Pork          Beverages          Breakfast     Chicken & Fish \n",
       "                15                 27                 42                 27 \n",
       "      Coffee & Tea           Desserts             Salads Smoothies & Shakes \n",
       "                95                  7                  6                 28 \n",
       "    Snacks & Sides \n",
       "                13 "
      ]
     },
     "metadata": {},
     "output_type": "display_data"
    }
   ],
   "source": [
    "table(t$Category)"
   ]
  },
  {
   "cell_type": "code",
   "execution_count": 18,
   "metadata": {
    "collapsed": false
   },
   "outputs": [
    {
     "ename": "ERROR",
     "evalue": "Error in library(tabplot): there is no package called ‘tabplot’\n",
     "output_type": "error",
     "traceback": [
      "Error in library(tabplot): there is no package called ‘tabplot’\nTraceback:\n",
      "1. library(tabplot)",
      "2. stop(txt, domain = NA)"
     ]
    }
   ],
   "source": [
    "library(tabplot)\n",
    "tableplot(t,nBins=nrow(t))"
   ]
  },
  {
   "cell_type": "code",
   "execution_count": 2,
   "metadata": {
    "collapsed": false
   },
   "outputs": [
    {
     "name": "stderr",
     "output_type": "stream",
     "text": [
      "also installing the dependencies ‘fastmatch’, ‘bit’, ‘ff’, ‘ffbase’\n",
      "\n",
      "Warning message in install.packages(\"tabplot\"):\n",
      "“installation of package ‘fastmatch’ had non-zero exit status”Warning message in install.packages(\"tabplot\"):\n",
      "“installation of package ‘bit’ had non-zero exit status”Warning message in install.packages(\"tabplot\"):\n",
      "“installation of package ‘ff’ had non-zero exit status”Warning message in install.packages(\"tabplot\"):\n",
      "“installation of package ‘ffbase’ had non-zero exit status”Warning message in install.packages(\"tabplot\"):\n",
      "“installation of package ‘tabplot’ had non-zero exit status”Updating HTML index of packages in '.Library'\n",
      "Making 'packages.html' ... done\n"
     ]
    }
   ],
   "source": [
    "install.packages(\"tabplot\")"
   ]
  },
  {
   "cell_type": "code",
   "execution_count": 3,
   "metadata": {
    "collapsed": false
   },
   "outputs": [
    {
     "ename": "ERROR",
     "evalue": "Error in library(tabplot): there is no package called ‘tabplot’\n",
     "output_type": "error",
     "traceback": [
      "Error in library(tabplot): there is no package called ‘tabplot’\nTraceback:\n",
      "1. library(tabplot)",
      "2. stop(txt, domain = NA)"
     ]
    }
   ],
   "source": [
    "library(tabplot)"
   ]
  },
  {
   "cell_type": "code",
   "execution_count": null,
   "metadata": {
    "collapsed": true
   },
   "outputs": [],
   "source": []
  }
 ],
 "metadata": {
  "kernelspec": {
   "display_name": "R",
   "language": "R",
   "name": "ir"
  },
  "language_info": {
   "codemirror_mode": "r",
   "file_extension": ".r",
   "mimetype": "text/x-r-source",
   "name": "R",
   "pygments_lexer": "r",
   "version": "3.3.2"
  }
 },
 "nbformat": 4,
 "nbformat_minor": 2
}
