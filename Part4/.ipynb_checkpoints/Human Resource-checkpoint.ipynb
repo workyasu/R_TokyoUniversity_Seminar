{
 "cells": [
  {
   "cell_type": "code",
   "execution_count": 6,
   "metadata": {
    "collapsed": false
   },
   "outputs": [],
   "source": [
    "#データの読み込み\n",
    "t=read.csv(\"HR_comma_sep.csv\",header=T)"
   ]
  },
  {
   "cell_type": "code",
   "execution_count": 7,
   "metadata": {
    "collapsed": true
   },
   "outputs": [
    {
     "data": {
      "text/plain": [
       " satisfaction_level last_evaluation  number_project  average_montly_hours\n",
       " Min.   :0.0900     Min.   :0.3600   Min.   :2.000   Min.   : 96.0       \n",
       " 1st Qu.:0.4400     1st Qu.:0.5600   1st Qu.:3.000   1st Qu.:156.0       \n",
       " Median :0.6400     Median :0.7200   Median :4.000   Median :200.0       \n",
       " Mean   :0.6128     Mean   :0.7161   Mean   :3.803   Mean   :201.1       \n",
       " 3rd Qu.:0.8200     3rd Qu.:0.8700   3rd Qu.:5.000   3rd Qu.:245.0       \n",
       " Max.   :1.0000     Max.   :1.0000   Max.   :7.000   Max.   :310.0       \n",
       "                                                                         \n",
       " time_spend_company Work_accident         left        promotion_last_5years\n",
       " Min.   : 2.000     Min.   :0.0000   Min.   :0.0000   Min.   :0.00000      \n",
       " 1st Qu.: 3.000     1st Qu.:0.0000   1st Qu.:0.0000   1st Qu.:0.00000      \n",
       " Median : 3.000     Median :0.0000   Median :0.0000   Median :0.00000      \n",
       " Mean   : 3.498     Mean   :0.1446   Mean   :0.2381   Mean   :0.02127      \n",
       " 3rd Qu.: 4.000     3rd Qu.:0.0000   3rd Qu.:0.0000   3rd Qu.:0.00000      \n",
       " Max.   :10.000     Max.   :1.0000   Max.   :1.0000   Max.   :1.00000      \n",
       "                                                                           \n",
       "         sales         salary    \n",
       " sales      :4140   high  :1237  \n",
       " technical  :2720   low   :7316  \n",
       " support    :2229   medium:6446  \n",
       " IT         :1227                \n",
       " product_mng: 902                \n",
       " marketing  : 858                \n",
       " (Other)    :2923                "
      ]
     },
     "metadata": {},
     "output_type": "display_data"
    }
   ],
   "source": [
    "#統計要約量\n",
    "summary(t)"
   ]
  },
  {
   "cell_type": "code",
   "execution_count": 8,
   "metadata": {
    "collapsed": true
   },
   "outputs": [
    {
     "name": "stdout",
     "output_type": "stream",
     "text": [
      "'data.frame':\t14999 obs. of  10 variables:\n",
      " $ satisfaction_level   : num  0.38 0.8 0.11 0.72 0.37 0.41 0.1 0.92 0.89 0.42 ...\n",
      " $ last_evaluation      : num  0.53 0.86 0.88 0.87 0.52 0.5 0.77 0.85 1 0.53 ...\n",
      " $ number_project       : int  2 5 7 5 2 2 6 5 5 2 ...\n",
      " $ average_montly_hours : int  157 262 272 223 159 153 247 259 224 142 ...\n",
      " $ time_spend_company   : int  3 6 4 5 3 3 4 5 5 3 ...\n",
      " $ Work_accident        : Factor w/ 2 levels \"0\",\"1\": 1 1 1 1 1 1 1 1 1 1 ...\n",
      " $ left                 : Factor w/ 2 levels \"0\",\"1\": 2 2 2 2 2 2 2 2 2 2 ...\n",
      " $ promotion_last_5years: int  0 0 0 0 0 0 0 0 0 0 ...\n",
      " $ sales                : Factor w/ 10 levels \"IT\",\"RandD\",\"accounting\",..: 8 8 8 8 8 8 8 8 8 8 ...\n",
      " $ salary               : Factor w/ 3 levels \"high\",\"low\",\"medium\": 2 3 3 2 2 2 2 2 2 2 ...\n"
     ]
    }
   ],
   "source": [
    "i=0\n",
    "d=t\n",
    "for(i in c(6,7)){\n",
    "    d[,c(i)]=as.factor(t[,c(i)])\n",
    "}\n",
    "str(d)"
   ]
  },
  {
   "cell_type": "code",
   "execution_count": 20,
   "metadata": {
    "collapsed": false
   },
   "outputs": [
    {
     "ename": "ERROR",
     "evalue": "Error in eval(expr, envir, enclos):  関数 \"sed.seed\" を見つけることができませんでした \n",
     "output_type": "error",
     "traceback": [
      "Error in eval(expr, envir, enclos):  関数 \"sed.seed\" を見つけることができませんでした \nTraceback:\n"
     ]
    }
   ],
   "source": [
    "sed.seed(123)"
   ]
  },
  {
   "cell_type": "code",
   "execution_count": 24,
   "metadata": {
    "collapsed": false
   },
   "outputs": [
    {
     "ename": "ERROR",
     "evalue": "Error in library(plotly): there is no package called ‘plotly’\n",
     "output_type": "error",
     "traceback": [
      "Error in library(plotly): there is no package called ‘plotly’\nTraceback:\n",
      "1. library(plotly)",
      "2. stop(txt, domain = NA)"
     ]
    }
   ],
   "source": [
    "library(plotly)\n",
    "\n",
    "set.seed(123)"
   ]
  },
  {
   "cell_type": "code",
   "execution_count": null,
   "metadata": {
    "collapsed": true
   },
   "outputs": [],
   "source": []
  }
 ],
 "metadata": {
  "kernelspec": {
   "display_name": "R",
   "language": "R",
   "name": "ir"
  },
  "language_info": {
   "codemirror_mode": "r",
   "file_extension": ".r",
   "mimetype": "text/x-r-source",
   "name": "R",
   "pygments_lexer": "r",
   "version": "3.3.2"
  }
 },
 "nbformat": 4,
 "nbformat_minor": 2
}
